{
 "cells": [
  {
   "cell_type": "code",
   "execution_count": 1,
   "metadata": {},
   "outputs": [
    {
     "name": "stdout",
     "output_type": "stream",
     "text": [
      "Processed and saved: fyersDf-unix/NIFTY50/2024-10-13-2024-11-10/NIFTY50.csv\n",
      "Processed and saved: fyersDf-unix/NIFTYBANK/2024-10-13-2024-11-10/NIFTYBANK.csv\n",
      "Processed and saved: fyersDf-unix/MIDCPNIFTY/2024-10-13-2024-11-10/MIDCPNIFTY.csv\n",
      "Processed and saved: fyersDf-unix/FINNIFTY/2024-10-13-2024-11-10/FINNIFTY.csv\n"
     ]
    }
   ],
   "source": [
    "import os\n",
    "import pandas as pd\n",
    "from datetime import datetime, timedelta\n",
    "\n",
    "# Function to convert time to UNIX timestamp\n",
    "def convert_to_unix(time_str):\n",
    "    # Parse the datetime string to a datetime object, handling the timezone\n",
    "    dt = datetime.fromisoformat(time_str)  # This already handles the +05:30 IST offset\n",
    "    # Convert datetime object to UNIX timestamp\n",
    "    return int(dt.timestamp())\n",
    "\n",
    "# Function to process and save data with UNIX timestamp\n",
    "def process_data_to_unix(input_folder, output_folder):\n",
    "    # Loop through each file in the input folder\n",
    "    for root, dirs, files in os.walk(input_folder):\n",
    "        for file in files:\n",
    "            # Only process CSV files\n",
    "            if file.endswith(\".csv\"):\n",
    "                input_filepath = os.path.join(root, file)\n",
    "                \n",
    "                # Read the CSV file\n",
    "                df = pd.read_csv(input_filepath)\n",
    "                \n",
    "                # Convert the 'time' column to UNIX timestamp\n",
    "                df['time'] = df['time'].apply(convert_to_unix)\n",
    "                \n",
    "                # Create the corresponding output folder if it doesn't exist\n",
    "                output_path = root.replace(input_folder, output_folder + '-unix')\n",
    "                if not os.path.exists(output_path):\n",
    "                    os.makedirs(output_path)\n",
    "                \n",
    "                # Save the processed DataFrame with UNIX timestamps\n",
    "                output_filepath = os.path.join(output_path, file)\n",
    "                df.to_csv(output_filepath, index=False)\n",
    "\n",
    "                print(f\"Processed and saved: {output_filepath}\")\n",
    "\n",
    "# Define the input and output folders (assumes the folders are fyersDf1 and fyersDf2)\n",
    "input_folders = [\"fyersDf\"]\n",
    "\n",
    "# Loop through the input folders and process them\n",
    "for input_folder in input_folders:\n",
    "    output_folder = input_folder  # You can customize this if needed\n",
    "    process_data_to_unix(input_folder, output_folder)\n"
   ]
  },
  {
   "cell_type": "code",
   "execution_count": null,
   "metadata": {},
   "outputs": [],
   "source": []
  }
 ],
 "metadata": {
  "kernelspec": {
   "display_name": "Python 3",
   "language": "python",
   "name": "python3"
  },
  "language_info": {
   "codemirror_mode": {
    "name": "ipython",
    "version": 3
   },
   "file_extension": ".py",
   "mimetype": "text/x-python",
   "name": "python",
   "nbconvert_exporter": "python",
   "pygments_lexer": "ipython3",
   "version": "3.10.12"
  }
 },
 "nbformat": 4,
 "nbformat_minor": 2
}
