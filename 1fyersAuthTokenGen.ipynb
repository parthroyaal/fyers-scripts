{
 "cells": [
  {
   "cell_type": "code",
   "execution_count": 1,
   "metadata": {},
   "outputs": [
    {
     "data": {
      "text/plain": [
       "'/bin/python3'"
      ]
     },
     "execution_count": 1,
     "metadata": {},
     "output_type": "execute_result"
    }
   ],
   "source": [
    "import sys\n",
    "sys.executable"
   ]
  },
  {
   "cell_type": "markdown",
   "metadata": {},
   "source": []
  },
  {
   "cell_type": "code",
   "execution_count": 2,
   "metadata": {},
   "outputs": [],
   "source": [
    "# !echo -e \"yfinance\\nsmartapi-python\\npyotp\\nlogzero\\nstreamlit\\nFlask\\ndatetime\\npandas\\nnumpy\\nfyers-apiv3\\nwebsockets\\nwebsocket-client\" > requirements.txt\n",
    "# !pip3 install -r re*"
   ]
  },
  {
   "cell_type": "code",
   "execution_count": 3,
   "metadata": {},
   "outputs": [
    {
     "name": "stdout",
     "output_type": "stream",
     "text": [
      "Defaulting to user installation because normal site-packages is not writeable\n",
      "Collecting fyers-apiv3\n",
      "  Downloading fyers_apiv3-3.1.4-py3-none-any.whl (30 kB)\n",
      "Collecting asyncio==3.4.3\n",
      "  Downloading asyncio-3.4.3-py3-none-any.whl (101 kB)\n",
      "\u001b[2K     \u001b[38;2;114;156;31m━━━━━━━━━━━━━━━━━━━━━━━━━━━━━━━━━━━━━\u001b[0m \u001b[32m101.8/101.8 KB\u001b[0m \u001b[31m248.5 kB/s\u001b[0m eta \u001b[36m0:00:00\u001b[0m kB/s\u001b[0m eta \u001b[36m0:00:01\u001b[0m:01\u001b[0m\n",
      "\u001b[?25hCollecting websocket-client==1.6.1\n",
      "  Downloading websocket_client-1.6.1-py3-none-any.whl (56 kB)\n",
      "\u001b[2K     \u001b[38;2;114;156;31m━━━━━━━━━━━━━━━━━━━━━━━━━━━━━━━━━━━━━━━\u001b[0m \u001b[32m56.9/56.9 KB\u001b[0m \u001b[31m367.7 kB/s\u001b[0m eta \u001b[36m0:00:00\u001b[0m kB/s\u001b[0m eta \u001b[36m0:00:01\u001b[0m\n",
      "\u001b[?25hCollecting aiohttp==3.9.3\n",
      "  Downloading aiohttp-3.9.3-cp310-cp310-manylinux_2_17_x86_64.manylinux2014_x86_64.whl (1.2 MB)\n",
      "\u001b[2K     \u001b[38;2;114;156;31m━━━━━━━━━━━━━━━━━━━━━━━━━━━━━━━━━━━━━━━━\u001b[0m \u001b[32m1.2/1.2 MB\u001b[0m \u001b[31m810.1 kB/s\u001b[0m eta \u001b[36m0:00:00\u001b[0mm eta \u001b[36m0:00:01\u001b[0m[36m0:00:01\u001b[0m\n",
      "\u001b[?25hCollecting requests==2.31.0\n",
      "  Downloading requests-2.31.0-py3-none-any.whl (62 kB)\n",
      "\u001b[2K     \u001b[38;2;114;156;31m━━━━━━━━━━━━━━━━━━━━━━━━━━━━━━━━━━━━━━━\u001b[0m \u001b[32m62.6/62.6 KB\u001b[0m \u001b[31m415.1 kB/s\u001b[0m eta \u001b[36m0:00:00\u001b[0m[36m0:00:01\u001b[0m eta \u001b[36m0:00:01\u001b[0m\n",
      "\u001b[?25hCollecting aws-lambda-powertools==1.25.5\n",
      "  Downloading aws_lambda_powertools-1.25.5-py3-none-any.whl (171 kB)\n",
      "\u001b[2K     \u001b[38;2;114;156;31m━━━━━━━━━━━━━━━━━━━━━━━━━━━━━━━━━━━━━\u001b[0m \u001b[32m171.8/171.8 KB\u001b[0m \u001b[31m576.6 kB/s\u001b[0m eta \u001b[36m0:00:00\u001b[0m kB/s\u001b[0m eta \u001b[36m0:00:01\u001b[0m:01\u001b[0m\n",
      "\u001b[?25hRequirement already satisfied: attrs>=17.3.0 in /usr/lib/python3/dist-packages (from aiohttp==3.9.3->fyers-apiv3) (21.2.0)\n",
      "Requirement already satisfied: multidict<7.0,>=4.5 in /usr/lib/python3/dist-packages (from aiohttp==3.9.3->fyers-apiv3) (5.1.0)\n",
      "Requirement already satisfied: async-timeout<5.0,>=4.0 in /usr/lib/python3/dist-packages (from aiohttp==3.9.3->fyers-apiv3) (4.0.1)\n",
      "Requirement already satisfied: frozenlist>=1.1.1 in /usr/lib/python3/dist-packages (from aiohttp==3.9.3->fyers-apiv3) (1.2.0)\n",
      "Requirement already satisfied: aiosignal>=1.1.2 in /usr/lib/python3/dist-packages (from aiohttp==3.9.3->fyers-apiv3) (1.2.0)\n",
      "Requirement already satisfied: yarl<2.0,>=1.0 in /usr/lib/python3/dist-packages (from aiohttp==3.9.3->fyers-apiv3) (1.7.2)\n",
      "Collecting aws-xray-sdk<3.0.0,>=2.8.0\n",
      "  Downloading aws_xray_sdk-2.14.0-py2.py3-none-any.whl (101 kB)\n",
      "\u001b[2K     \u001b[38;2;114;156;31m━━━━━━━━━━━━━━━━━━━━━━━━━━━━━━━━━━━━━\u001b[0m \u001b[32m101.9/101.9 KB\u001b[0m \u001b[31m852.3 kB/s\u001b[0m eta \u001b[36m0:00:00\u001b[0m1m933.1 kB/s\u001b[0m eta \u001b[36m0:00:01\u001b[0m\n",
      "\u001b[?25hCollecting boto3<2.0,>=1.18\n",
      "  Downloading boto3-1.35.57-py3-none-any.whl (139 kB)\n",
      "\u001b[2K     \u001b[38;2;114;156;31m━━━━━━━━━━━━━━━━━━━━━━━━━━━━━━━━━━━━━\u001b[0m \u001b[32m139.2/139.2 KB\u001b[0m \u001b[31m915.4 kB/s\u001b[0m eta \u001b[36m0:00:00\u001b[0m MB/s\u001b[0m eta \u001b[36m0:00:01\u001b[0m:01\u001b[0m\n",
      "\u001b[?25hCollecting fastjsonschema<3.0.0,>=2.14.5\n",
      "  Downloading fastjsonschema-2.20.0-py3-none-any.whl (23 kB)\n",
      "Collecting jmespath<0.11.0,>=0.10.0\n",
      "  Downloading jmespath-0.10.0-py2.py3-none-any.whl (24 kB)\n",
      "Requirement already satisfied: urllib3<3,>=1.21.1 in /home/acer/.local/lib/python3.10/site-packages (from requests==2.31.0->fyers-apiv3) (2.2.2)\n",
      "Requirement already satisfied: idna<4,>=2.5 in /usr/lib/python3/dist-packages (from requests==2.31.0->fyers-apiv3) (3.3)\n",
      "Requirement already satisfied: charset-normalizer<4,>=2 in /usr/lib/python3/dist-packages (from requests==2.31.0->fyers-apiv3) (2.0.6)\n",
      "Requirement already satisfied: certifi>=2017.4.17 in /usr/lib/python3/dist-packages (from requests==2.31.0->fyers-apiv3) (2020.6.20)\n",
      "Collecting wrapt\n",
      "  Downloading wrapt-1.16.0-cp310-cp310-manylinux_2_5_x86_64.manylinux1_x86_64.manylinux_2_17_x86_64.manylinux2014_x86_64.whl (80 kB)\n",
      "\u001b[2K     \u001b[38;2;114;156;31m━━━━━━━━━━━━━━━━━━━━━━━━━━━━━━━━━━━━━━━━\u001b[0m \u001b[32m80.3/80.3 KB\u001b[0m \u001b[31m1.4 MB/s\u001b[0m eta \u001b[36m0:00:00\u001b[0m MB/s\u001b[0m eta \u001b[36m0:00:01\u001b[0m\n",
      "\u001b[?25hCollecting botocore>=1.11.3\n",
      "  Downloading botocore-1.35.57-py3-none-any.whl (12.7 MB)\n",
      "\u001b[2K     \u001b[38;2;114;156;31m━━━━━━━━━━━━━━━━━━━━━━━━━━━━━━━━━━━━━━━\u001b[0m \u001b[32m12.7/12.7 MB\u001b[0m \u001b[31m508.6 kB/s\u001b[0m eta \u001b[36m0:00:00\u001b[0mm eta \u001b[36m0:00:01\u001b[0m[36m0:00:01\u001b[0m\n",
      "\u001b[?25hCollecting s3transfer<0.11.0,>=0.10.0\n",
      "  Downloading s3transfer-0.10.3-py3-none-any.whl (82 kB)\n",
      "\u001b[2K     \u001b[38;2;114;156;31m━━━━━━━━━━━━━━━━━━━━━━━━━━━━━━━━━━━━━━━━\u001b[0m \u001b[32m82.6/82.6 KB\u001b[0m \u001b[31m1.6 MB/s\u001b[0m eta \u001b[36m0:00:00\u001b[0m[31m2.4 MB/s\u001b[0m eta \u001b[36m0:00:01\u001b[0m\n",
      "\u001b[?25hRequirement already satisfied: python-dateutil<3.0.0,>=2.1 in /home/acer/.local/lib/python3.10/site-packages (from botocore>=1.11.3->aws-xray-sdk<3.0.0,>=2.8.0->aws-lambda-powertools==1.25.5->fyers-apiv3) (2.9.0.post0)\n",
      "Requirement already satisfied: six>=1.5 in /usr/lib/python3/dist-packages (from python-dateutil<3.0.0,>=2.1->botocore>=1.11.3->aws-xray-sdk<3.0.0,>=2.8.0->aws-lambda-powertools==1.25.5->fyers-apiv3) (1.16.0)\n",
      "Installing collected packages: fastjsonschema, asyncio, wrapt, websocket-client, requests, jmespath, aiohttp, botocore, s3transfer, aws-xray-sdk, boto3, aws-lambda-powertools, fyers-apiv3\n",
      "\u001b[31mERROR: pip's dependency resolver does not currently take into account all the packages that are installed. This behaviour is the source of the following dependency conflicts.\n",
      "yt-dlp 2024.8.6 requires requests<3,>=2.32.2, but you have requests 2.31.0 which is incompatible.\u001b[0m\u001b[31m\n",
      "\u001b[0mSuccessfully installed aiohttp-3.9.3 asyncio-3.4.3 aws-lambda-powertools-1.25.5 aws-xray-sdk-2.14.0 boto3-1.35.57 botocore-1.35.57 fastjsonschema-2.20.0 fyers-apiv3-3.1.4 jmespath-0.10.0 requests-2.31.0 s3transfer-0.10.3 websocket-client-1.6.1 wrapt-1.16.0\n"
     ]
    }
   ],
   "source": [
    "!pip3 install fyers-apiv3"
   ]
  },
  {
   "cell_type": "code",
   "execution_count": null,
   "metadata": {},
   "outputs": [],
   "source": []
  },
  {
   "cell_type": "code",
   "execution_count": 4,
   "metadata": {},
   "outputs": [],
   "source": [
    "#gstatparth@gmail.com\n",
    "#xp12325\n",
    "#https://myapi.fyers.in/dashboard\n",
    "redircet_url = 'http://127.0.0.1:8081'\n",
    "client_id=\"XD01RU06CS-100\"\n",
    "secret_key=\"EP5DDWV20I\"\n",
    "FY_ID=\"XP12325\"\n",
    "TOTP_KEY=\"Q2HC7F57FHMHPRT2VRLPRWA4ORWPK34E\"\n",
    "PIN=\"8894\"\n",
    "grant_type=\"authorization_code\"\n",
    "response_type=\"code\"\n",
    "\n",
    "\n"
   ]
  },
  {
   "cell_type": "code",
   "execution_count": 5,
   "metadata": {},
   "outputs": [
    {
     "name": "stdout",
     "output_type": "stream",
     "text": [
      "https://api-t1.fyers.in/api/v3/generate-authcode?client_id=M6EQ9SEMLM-100&redirect_uri=http%3A%2F%2F127.0.0.1%3A8081&response_type=code&state=state\n"
     ]
    }
   ],
   "source": [
    "import os\n",
    "import requests, time, base64, struct, hmac\n",
    "from fyers_apiv3 import fyersModel\n",
    "from urllib.parse import urlparse, parse_qs #https://www.youtube.com/watch?v=UHX0jwpw0_E\n",
    "pin = '8894'\n",
    "class FyesApp:\n",
    "    def __init__(self) -> None:\n",
    "        self.__username= 'XP12325' \n",
    "        self.__totp_key='Q2HC7F57FHMHPRT2VRLPRWA4ORWPK34E'\n",
    "        self.__pin='8894'\n",
    "        self.__client_id=\"M6EQ9SEMLM-100\"\n",
    "        self.__secret_key=\"22NRKYLP40\"\n",
    "        self.__redirect_uri='http://127.0.0.1:8081'\n",
    "        self.__access_token=None\n",
    "\n",
    "    def enable_app(self):\n",
    "        appSession= fyersModel.SessionModel(\n",
    "            client_id= self.__client_id,\n",
    "            redirect_uri= self.__redirect_uri,\n",
    "            response_type= 'code',\n",
    "            state= 'state',\n",
    "            secret_key=self.__secret_key,\n",
    "            grant_type='authorization_code'\n",
    "            \n",
    "        )\n",
    "        return appSession.generate_authcode()\n",
    "\n",
    "    #private function for authenticator app function for authentacation using totp\n",
    "    def __totp(self, key, time_step=30, digits=6, digest=\"sha1\"):\n",
    "        key = base64.b32decode(key.upper() + \"=\" * ((8 - len(key)) % 8))\n",
    "        counter = struct.pack(\">Q\", int(time.time() / time_step))\n",
    "        mac = hmac.new(key, counter, digest).digest()\n",
    "        offset = mac[-1] & 0x0F\n",
    "        binary = struct.unpack(\">L\", mac[offset : offset + 4])[0] & 0x7FFFFFFF\n",
    "        return str(binary)[-digits:].zfill(digits)\n",
    "\n",
    "    def get_token(self, refresh=False):\n",
    "        if self.__access_token == None and refresh !=False:\n",
    "            return #?\n",
    "\n",
    "        headers = {\n",
    "            \"Accept\": \"application/json\",\n",
    "            \"Accept-Language\": \"en-US,en;q=0.9\",\n",
    "            \"User-Agent\": \"Mozilla/5.0 (Windows NT 10.0; Win64; x64) AppleWebKit/537.36 (KHTML, like Gecko) Chrome/112.0.0.0 Safari/537.36\",\n",
    "        }\n",
    "\n",
    "        s = requests.Session()\n",
    "        s.headers.update(headers)\n",
    "\n",
    "        data1 = f'{{\"fy_id\":\"{base64.b64encode(f\"{self.__username}\".encode()).decode()}\",\"app_id\":\"2\"}}'\n",
    "        r1 = s.post(\"https://api-t2.fyers.in/vagator/v2/send_login_otp_v2\", data=data1)\n",
    "\n",
    "        request_key = r1.json()[\"request_key\"]\n",
    "        data2 = f'{{\"request_key\":\"{request_key}\",\"otp\":{self.__totp(self.__totp_key)}}}'\n",
    "        r2 = s.post(\"https://api-t2.fyers.in/vagator/v2/verify_otp\", data=data2)\n",
    "        assert r2.status_code == 200, f\"Error in r2:\\n {r2.text}\"\n",
    "\n",
    "        request_key = r2.json()[\"request_key\"]\n",
    "        data3 = f'{{\"request_key\":\"{request_key}\",\"identity_type\":\"pin\",\"identifier\":\"{base64.b64encode(f\"{pin}\".encode()).decode()}\"}}'\n",
    "        r3 = s.post(\"https://api-t2.fyers.in/vagator/v2/verify_pin_v2\", data=data3)\n",
    "        assert r3.status_code == 200, f\"Error in r3:\\n {r3.json()}\"\n",
    "\n",
    "        headers = {\"authorization\": f\"Bearer {r3.json()['data']['access_token']}\", \"content-type\": \"application/json; charset=UTF-8\"}\n",
    "        data4 = f'{{\"fyers_id\":\"{self.__username}\",\"app_id\":\"{self.__client_id[:-4]}\",\"redirect_uri\":\"{self.__redirect_uri}\",\"appType\":\"100\",\"code_challenge\":\"\",\"state\":\"abcdefg\",\"scope\":\"\",\"nonce\":\"\",\"response_type\":\"code\",\"create_cookie\":true}}'\n",
    "        r4 = s.post(\"https://api.fyers.in/api/v2/token\", headers=headers, data=data4)\n",
    "        assert r4.status_code == 308, f\"Error in r4:\\n {r4.json()}\"\n",
    "\n",
    "        parsed = urlparse(r4.json()[\"Url\"])\n",
    "        auth_code = parse_qs(parsed.query)[\"auth_code\"][0]\n",
    "\n",
    "        session = fyersModel.SessionModel(\n",
    "            client_id=self.__client_id, \n",
    "            secret_key=self.__secret_key, \n",
    "            redirect_uri=self.__redirect_uri, \n",
    "            response_type=\"code\", \n",
    "            grant_type=\"authorization_code\"\n",
    "            )\n",
    "\n",
    "        session.set_token(auth_code)\n",
    "        response = session.generate_token()\n",
    "        self.__access_token =  response[\"access_token\"]\n",
    "        return self.__access_token\n",
    "\n",
    "app = FyesApp()\n",
    "print(app.enable_app())\n",
    "# app.get_token()\n",
    "# print(app.__access_token())"
   ]
  },
  {
   "cell_type": "code",
   "execution_count": 6,
   "metadata": {},
   "outputs": [
    {
     "name": "stdout",
     "output_type": "stream",
     "text": [
      "eyJ0eXAiOiJKV1QiLCJhbGciOiJIUzI1NiJ9.eyJpc3MiOiJhcGkuZnllcnMuaW4iLCJpYXQiOjE3MzEyMzQ1ODAsImV4cCI6MTczMTI4NTA0MCwibmJmIjoxNzMxMjM0NTgwLCJhdWQiOlsieDowIiwieDoxIiwiZDoxIiwiZDoyIiwieDowIl0sInN1YiI6ImFjY2Vzc190b2tlbiIsImF0X2hhc2giOiJnQUFBQUFCbk1Jc1V1YjREYldfQjFBV2xXMGNCU3lzYWdfOVBUb0hTdVdBcHJwaXNpTEdzWUhaNEF6aGJqWGNOWG0yMmFGYi1TSWVNRkI5MjFMMzJFN3c0LTNNSWRSdy1qQ2FjbEFkTW5UY1ktQm1xWDlIMWFURT0iLCJkaXNwbGF5X25hbWUiOiJQQVJUSCBST1lBTCIsIm9tcyI6IksxIiwiaHNtX2tleSI6ImYyOTA3Njg3N2YwMTQ2M2YzY2RlODNiZDI1N2Q4ODcwYWY3Nzc3YTE3N2JiOTRkNDc4OTczZWRmIiwiZnlfaWQiOiJYUDEyMzI1IiwiYXBwVHlwZSI6MTAwLCJwb2FfZmxhZyI6Ik4ifQ.iks2y5rc4Nhg49OSfvx76iYVJ0m8kCDfuIdOjHuKcUo\n"
     ]
    }
   ],
   "source": [
    "print(app.get_token())"
   ]
  },
  {
   "cell_type": "code",
   "execution_count": 7,
   "metadata": {},
   "outputs": [],
   "source": [
    "at = \"eyJ0eXAiOiJKV1QiLCJhbGciOiJIUzI1NiJ9.eyJpc3MiOiJhcGkuZnllcnMuaW4iLCJpYXQiOjE3MzEyMzQ1ODAsImV4cCI6MTczMTI4NTA0MCwibmJmIjoxNzMxMjM0NTgwLCJhdWQiOlsieDowIiwieDoxIiwiZDoxIiwiZDoyIiwieDowIl0sInN1YiI6ImFjY2Vzc190b2tlbiIsImF0X2hhc2giOiJnQUFBQUFCbk1Jc1V1YjREYldfQjFBV2xXMGNCU3lzYWdfOVBUb0hTdVdBcHJwaXNpTEdzWUhaNEF6aGJqWGNOWG0yMmFGYi1TSWVNRkI5MjFMMzJFN3c0LTNNSWRSdy1qQ2FjbEFkTW5UY1ktQm1xWDlIMWFURT0iLCJkaXNwbGF5X25hbWUiOiJQQVJUSCBST1lBTCIsIm9tcyI6IksxIiwiaHNtX2tleSI6ImYyOTA3Njg3N2YwMTQ2M2YzY2RlODNiZDI1N2Q4ODcwYWY3Nzc3YTE3N2JiOTRkNDc4OTczZWRmIiwiZnlfaWQiOiJYUDEyMzI1IiwiYXBwVHlwZSI6MTAwLCJwb2FfZmxhZyI6Ik4ifQ.iks2y5rc4Nhg49OSfvx76iYVJ0m8kCDfuIdOjHuKcUo\""
   ]
  },
  {
   "cell_type": "code",
   "execution_count": 8,
   "metadata": {},
   "outputs": [
    {
     "name": "stdout",
     "output_type": "stream",
     "text": [
      "{'s': 'ok', 'code': 200, 'message': '', 'data': {'fy_id': 'XP12325', 'name': 'PARTH ROYAL', 'image': None, 'display_name': None, 'pin_change_date': '05-12-2021 17:10:44', 'email_id': 'gstatparth@gmail.com', 'pwd_change_date': '27-01-2022 11:39:41', 'PAN': '---------', 'mobile_number': '9418037413', 'totp': True, 'pwd_to_expire': -867}}\n"
     ]
    }
   ],
   "source": [
    "from fyers_apiv3 import fyersModel\n",
    "\n",
    "client_id = \"M6EQ9SEMLM-100\"\n",
    "\n",
    "# Initialize the FyersModel instance with your client_id, access_token, and enable async mode\n",
    "fyers = fyersModel.FyersModel(client_id=client_id, is_async=False, token=at, log_path=\"./\")\n",
    "\n",
    "# Make a request to get the user profile information\n",
    "response = fyers.get_profile()\n",
    "\n",
    "# Print the response received from the Fyers API\n",
    "print(response)\n",
    "\n",
    "\n"
   ]
  },
  {
   "cell_type": "code",
   "execution_count": null,
   "metadata": {},
   "outputs": [],
   "source": []
  },
  {
   "cell_type": "code",
   "execution_count": null,
   "metadata": {},
   "outputs": [],
   "source": []
  }
 ],
 "metadata": {
  "kernelspec": {
   "display_name": "Python 3",
   "language": "python",
   "name": "python3"
  },
  "language_info": {
   "codemirror_mode": {
    "name": "ipython",
    "version": 3
   },
   "file_extension": ".py",
   "mimetype": "text/x-python",
   "name": "python",
   "nbconvert_exporter": "python",
   "pygments_lexer": "ipython3",
   "version": "3.10.12"
  }
 },
 "nbformat": 4,
 "nbformat_minor": 2
}
